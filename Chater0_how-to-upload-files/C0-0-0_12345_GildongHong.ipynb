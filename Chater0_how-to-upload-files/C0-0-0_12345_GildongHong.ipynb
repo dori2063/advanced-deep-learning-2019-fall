{
 "cells": [
  {
   "cell_type": "markdown",
   "source": [
    "Base code: chapter 0.0.0 listing 0.1 ~ 0.5\n",
    "\n",
    "Name: Gildong Hong\n",
    "\n",
    "Modification:\n",
    "(English description is required)\n",
    "I replaced 'hello world' by 'hello advanced deep learning'\n",
    "\n",
    "(Korean description can be added for better understanding)\n",
    "'hello world' 를 'hello advanced deep learning' 으로 바꾸어 보았다.\n",
    "\n",
    "Result:\n",
    "C:\\Users\\kyoob\\Anaconda3\\envs\\DeepLearningWithPython\\python.exe C:/Users/kyoob/PycharmProjects/advanced-deep-learning-2019-fall/chapter-number_student-number_student-name.py\n",
    "hello advanced deep learning\n",
    "\n",
    "Process finished with exit code 0\n",
    "\n",
    "\n",
    "Discussion:\n",
    "(English description is required)\n",
    "'world' is replaced by 'advanced deep learning'\n",
    "\n",
    "(Korean description can be added for better understanding)\n",
    "'advanced deep learning' 부분이 'world'로 바뀌었다."
   ],
   "metadata": {
    "collapsed": false
   }
  },
  {
   "cell_type": "code",
   "execution_count": 1,
   "metadata": {
    "collapsed": true,
    "pycharm": {
     "name": "#%%\n",
     "is_executing": false
    }
   },
   "outputs": [
    {
     "name": "stdout",
     "text": [
      "hello advanced deep learning\n"
     ],
     "output_type": "stream"
    }
   ],
   "source": [
    "print('hello advanced deep learning')\n",
    "\n"
   ]
  }
 ],
 "metadata": {
  "language_info": {
   "codemirror_mode": {
    "name": "ipython",
    "version": 2
   },
   "file_extension": ".py",
   "mimetype": "text/x-python",
   "name": "python",
   "nbconvert_exporter": "python",
   "pygments_lexer": "ipython2",
   "version": "2.7.6"
  },
  "kernelspec": {
   "name": "python3",
   "language": "python",
   "display_name": "Python 3"
  },
  "pycharm": {
   "stem_cell": {
    "cell_type": "raw",
    "source": [],
    "metadata": {
     "collapsed": false
    }
   }
  }
 },
 "nbformat": 4,
 "nbformat_minor": 0
}