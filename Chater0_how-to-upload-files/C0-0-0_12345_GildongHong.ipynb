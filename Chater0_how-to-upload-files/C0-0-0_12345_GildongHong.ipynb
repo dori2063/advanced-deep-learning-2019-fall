{
 "cells": [
  {
   "cell_type": "markdown",
   "metadata": {},
   "source": [
    "\n",
    "# hello advanced deep learning\n",
    "\n",
    "Base code: chapter 0.0.0 listing 0.1 ~ 0.5\n",
    "\n",
    "Name: Gildong Hong\n",
    "\n",
    "Modification:\n",
    "\n",
    "(English description is required)\n",
    "I replaced 'hello world' by 'hello advanced deep learning'\n",
    "\n",
    "(Korean description can be added for better understanding)\n",
    "'hello world' 를 'hello advanced deep learning' 으로 바꾸어 보았다.\n",
    "\n",
    "Result:\n",
    "\n",
    "C:\\Users\\kyoob\\Anaconda3\\envs\\DeepLearningWithPython\\python.exe C:/Users/kyoob/PycharmProjects/advanced-deep-learning-2019-fall/chapter-number_student-number_student-name.py\n",
    "hello advanced deep learning\n",
    "\n",
    "Process finished with exit code 0\n",
    "\n",
    "\n",
    "Discussion:\n",
    "\n",
    "(English description is required)\n",
    "'world' is replaced by 'advanced deep learning'\n",
    "\n",
    "(Korean description can be added for better understanding)\n",
    "'advanced deep learning' 부분이 'world'로 바뀌었다."
   ]
  },
  {
   "cell_type": "code",
   "execution_count": 1,
   "metadata": {
    "pycharm": {
     "is_executing": false,
     "name": "#%%\n"
    }
   },
   "outputs": [
    {
     "name": "stdout",
     "output_type": "stream",
     "text": [
      "hello advanced deep learning\n"
     ]
    }
   ],
   "source": [
    "print('hello advanced deep learning')\n",
    "\n"
   ]
  }
 ],
 "metadata": {
  "kernelspec": {
   "display_name": "Python 3",
   "language": "python",
   "name": "python3"
  },
  "language_info": {
   "codemirror_mode": {
    "name": "ipython",
    "version": 3
   },
   "file_extension": ".py",
   "mimetype": "text/x-python",
   "name": "python",
   "nbconvert_exporter": "python",
   "pygments_lexer": "ipython3",
   "version": "3.6.9"
  },
  "pycharm": {
   "stem_cell": {
    "cell_type": "raw",
    "source": [],
    "metadata": {
     "collapsed": false
    }
   }
  }
 },
 "nbformat": 4,
 "nbformat_minor": 1
}